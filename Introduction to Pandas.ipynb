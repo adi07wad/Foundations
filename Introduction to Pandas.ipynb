{
 "cells": [
  {
   "cell_type": "code",
   "execution_count": 3,
   "metadata": {},
   "outputs": [
    {
     "name": "stdout",
     "output_type": "stream",
     "text": [
      "Requirement already satisfied: pandas in c:\\users\\aditi\\anaconda3\\lib\\site-packages (0.22.0)\n",
      "Requirement already satisfied: python-dateutil>=2 in c:\\users\\aditi\\anaconda3\\lib\\site-packages (from pandas) (2.6.1)\n",
      "Requirement already satisfied: pytz>=2011k in c:\\users\\aditi\\anaconda3\\lib\\site-packages (from pandas) (2017.3)\n",
      "Requirement already satisfied: numpy>=1.9.0 in c:\\users\\aditi\\anaconda3\\lib\\site-packages (from pandas) (1.14.0)\n",
      "Requirement already satisfied: six>=1.5 in c:\\users\\aditi\\anaconda3\\lib\\site-packages (from python-dateutil>=2->pandas) (1.11.0)\n"
     ]
    }
   ],
   "source": [
    "#Introduction to Pandas\n",
    "!pip install pandas\n"
   ]
  },
  {
   "cell_type": "code",
   "execution_count": 13,
   "metadata": {},
   "outputs": [],
   "source": [
    "import pandas as pd"
   ]
  },
  {
   "cell_type": "code",
   "execution_count": 18,
   "metadata": {},
   "outputs": [],
   "source": [
    "#pd.read_csv('C:/Users/aditi/OneDrive/Desktop/Lede/python/05-classwork/countries.csv')"
   ]
  },
  {
   "cell_type": "code",
   "execution_count": 15,
   "metadata": {},
   "outputs": [
    {
     "data": {
      "text/plain": [
       "pandas.core.frame.DataFrame"
      ]
     },
     "execution_count": 15,
     "metadata": {},
     "output_type": "execute_result"
    }
   ],
   "source": [
    "type(pd.read_csv('C:/Users/aditi/OneDrive/Desktop/Lede/python/05-classwork/countries.csv'))"
   ]
  },
  {
   "cell_type": "code",
   "execution_count": 17,
   "metadata": {},
   "outputs": [],
   "source": [
    "df= pd.read_csv('C:/Users/aditi/OneDrive/Desktop/Lede/python/05-classwork/countries.csv')"
   ]
  },
  {
   "cell_type": "code",
   "execution_count": 20,
   "metadata": {},
   "outputs": [
    {
     "data": {
      "text/html": [
       "<div>\n",
       "<style scoped>\n",
       "    .dataframe tbody tr th:only-of-type {\n",
       "        vertical-align: middle;\n",
       "    }\n",
       "\n",
       "    .dataframe tbody tr th {\n",
       "        vertical-align: top;\n",
       "    }\n",
       "\n",
       "    .dataframe thead th {\n",
       "        text-align: right;\n",
       "    }\n",
       "</style>\n",
       "<table border=\"1\" class=\"dataframe\">\n",
       "  <thead>\n",
       "    <tr style=\"text-align: right;\">\n",
       "      <th></th>\n",
       "      <th>Country</th>\n",
       "      <th>Continent</th>\n",
       "      <th>GDP_per_capita</th>\n",
       "      <th>life_expectancy</th>\n",
       "      <th>Population</th>\n",
       "    </tr>\n",
       "  </thead>\n",
       "  <tbody>\n",
       "    <tr>\n",
       "      <th>0</th>\n",
       "      <td>Afghanistan</td>\n",
       "      <td>Asia</td>\n",
       "      <td>663</td>\n",
       "      <td>54.863</td>\n",
       "      <td>22856302</td>\n",
       "    </tr>\n",
       "    <tr>\n",
       "      <th>1</th>\n",
       "      <td>Albania</td>\n",
       "      <td>Europe</td>\n",
       "      <td>4195</td>\n",
       "      <td>74.200</td>\n",
       "      <td>3071856</td>\n",
       "    </tr>\n",
       "    <tr>\n",
       "      <th>2</th>\n",
       "      <td>Algeria</td>\n",
       "      <td>Africa</td>\n",
       "      <td>5098</td>\n",
       "      <td>68.963</td>\n",
       "      <td>30533827</td>\n",
       "    </tr>\n",
       "    <tr>\n",
       "      <th>3</th>\n",
       "      <td>Angola</td>\n",
       "      <td>Africa</td>\n",
       "      <td>2446</td>\n",
       "      <td>45.234</td>\n",
       "      <td>13926373</td>\n",
       "    </tr>\n",
       "    <tr>\n",
       "      <th>4</th>\n",
       "      <td>Antigua and Barbuda</td>\n",
       "      <td>N. America</td>\n",
       "      <td>12738</td>\n",
       "      <td>73.544</td>\n",
       "      <td>77656</td>\n",
       "    </tr>\n",
       "  </tbody>\n",
       "</table>\n",
       "</div>"
      ],
      "text/plain": [
       "               Country   Continent  GDP_per_capita  life_expectancy  \\\n",
       "0          Afghanistan        Asia             663           54.863   \n",
       "1              Albania      Europe            4195           74.200   \n",
       "2              Algeria      Africa            5098           68.963   \n",
       "3               Angola      Africa            2446           45.234   \n",
       "4  Antigua and Barbuda  N. America           12738           73.544   \n",
       "\n",
       "   Population  \n",
       "0    22856302  \n",
       "1     3071856  \n",
       "2    30533827  \n",
       "3    13926373  \n",
       "4       77656  "
      ]
     },
     "execution_count": 20,
     "metadata": {},
     "output_type": "execute_result"
    }
   ],
   "source": [
    "df.head() #Sorted according to the top 5 rows"
   ]
  },
  {
   "cell_type": "code",
   "execution_count": 28,
   "metadata": {},
   "outputs": [
    {
     "data": {
      "text/html": [
       "<div>\n",
       "<style scoped>\n",
       "    .dataframe tbody tr th:only-of-type {\n",
       "        vertical-align: middle;\n",
       "    }\n",
       "\n",
       "    .dataframe tbody tr th {\n",
       "        vertical-align: top;\n",
       "    }\n",
       "\n",
       "    .dataframe thead th {\n",
       "        text-align: right;\n",
       "    }\n",
       "</style>\n",
       "<table border=\"1\" class=\"dataframe\">\n",
       "  <thead>\n",
       "    <tr style=\"text-align: right;\">\n",
       "      <th></th>\n",
       "      <th>Country</th>\n",
       "      <th>Continent</th>\n",
       "      <th>GDP_per_capita</th>\n",
       "      <th>life_expectancy</th>\n",
       "      <th>Population</th>\n",
       "    </tr>\n",
       "  </thead>\n",
       "  <tbody>\n",
       "    <tr>\n",
       "      <th>185</th>\n",
       "      <td>Yemen, Rep.</td>\n",
       "      <td>Asia</td>\n",
       "      <td>2217</td>\n",
       "      <td>60.404</td>\n",
       "      <td>17723186</td>\n",
       "    </tr>\n",
       "    <tr>\n",
       "      <th>186</th>\n",
       "      <td>Zambia</td>\n",
       "      <td>Africa</td>\n",
       "      <td>1035</td>\n",
       "      <td>41.802</td>\n",
       "      <td>10201562</td>\n",
       "    </tr>\n",
       "    <tr>\n",
       "      <th>187</th>\n",
       "      <td>Zimbabwe</td>\n",
       "      <td>Africa</td>\n",
       "      <td>745</td>\n",
       "      <td>43.976</td>\n",
       "      <td>12509477</td>\n",
       "    </tr>\n",
       "  </tbody>\n",
       "</table>\n",
       "</div>"
      ],
      "text/plain": [
       "         Country Continent  GDP_per_capita  life_expectancy  Population\n",
       "185  Yemen, Rep.      Asia            2217           60.404    17723186\n",
       "186       Zambia    Africa            1035           41.802    10201562\n",
       "187     Zimbabwe    Africa             745           43.976    12509477"
      ]
     },
     "execution_count": 28,
     "metadata": {},
     "output_type": "execute_result"
    }
   ],
   "source": [
    "# ERROR - df.tail  - <bound method NDFrame.tail of   \n",
    "df.tail(3)"
   ]
  },
  {
   "cell_type": "code",
   "execution_count": 30,
   "metadata": {},
   "outputs": [
    {
     "data": {
      "text/plain": [
       "(188, 5)"
      ]
     },
     "execution_count": 30,
     "metadata": {},
     "output_type": "execute_result"
    }
   ],
   "source": [
    "df.shape"
   ]
  },
  {
   "cell_type": "code",
   "execution_count": 33,
   "metadata": {},
   "outputs": [
    {
     "data": {
      "text/plain": [
       "Country             object\n",
       "Continent           object\n",
       "GDP_per_capita       int64\n",
       "life_expectancy    float64\n",
       "Population           int64\n",
       "dtype: object"
      ]
     },
     "execution_count": 33,
     "metadata": {},
     "output_type": "execute_result"
    }
   ],
   "source": [
    "df.dtypes  #string as objects, later we get category\n"
   ]
  },
  {
   "cell_type": "code",
   "execution_count": 35,
   "metadata": {},
   "outputs": [],
   "source": [
    "### three things to do when you load in data\n",
    "#Look at head - first few rows\n",
    "#Look at shape - rows and columns\n",
    "#look at .dtypes - to see data types of columns\n"
   ]
  },
  {
   "cell_type": "code",
   "execution_count": 36,
   "metadata": {},
   "outputs": [
    {
     "data": {
      "text/html": [
       "<div>\n",
       "<style scoped>\n",
       "    .dataframe tbody tr th:only-of-type {\n",
       "        vertical-align: middle;\n",
       "    }\n",
       "\n",
       "    .dataframe tbody tr th {\n",
       "        vertical-align: top;\n",
       "    }\n",
       "\n",
       "    .dataframe thead th {\n",
       "        text-align: right;\n",
       "    }\n",
       "</style>\n",
       "<table border=\"1\" class=\"dataframe\">\n",
       "  <thead>\n",
       "    <tr style=\"text-align: right;\">\n",
       "      <th></th>\n",
       "      <th>Country</th>\n",
       "      <th>Continent</th>\n",
       "      <th>GDP_per_capita</th>\n",
       "      <th>life_expectancy</th>\n",
       "      <th>Population</th>\n",
       "    </tr>\n",
       "  </thead>\n",
       "  <tbody>\n",
       "    <tr>\n",
       "      <th>64</th>\n",
       "      <td>Greenland</td>\n",
       "      <td>N. America</td>\n",
       "      <td>33204</td>\n",
       "      <td>67.030000</td>\n",
       "      <td>56196</td>\n",
       "    </tr>\n",
       "    <tr>\n",
       "      <th>4</th>\n",
       "      <td>Antigua and Barbuda</td>\n",
       "      <td>N. America</td>\n",
       "      <td>12738</td>\n",
       "      <td>73.544000</td>\n",
       "      <td>77656</td>\n",
       "    </tr>\n",
       "    <tr>\n",
       "      <th>146</th>\n",
       "      <td>Seychelles</td>\n",
       "      <td>Africa</td>\n",
       "      <td>15230</td>\n",
       "      <td>71.771000</td>\n",
       "      <td>78685</td>\n",
       "    </tr>\n",
       "    <tr>\n",
       "      <th>87</th>\n",
       "      <td>Kiribati</td>\n",
       "      <td>Oceania</td>\n",
       "      <td>3501</td>\n",
       "      <td>64.642000</td>\n",
       "      <td>84010</td>\n",
       "    </tr>\n",
       "    <tr>\n",
       "      <th>169</th>\n",
       "      <td>Tonga</td>\n",
       "      <td>Oceania</td>\n",
       "      <td>4886</td>\n",
       "      <td>70.810000</td>\n",
       "      <td>97935</td>\n",
       "    </tr>\n",
       "    <tr>\n",
       "      <th>65</th>\n",
       "      <td>Grenada</td>\n",
       "      <td>N. America</td>\n",
       "      <td>8655</td>\n",
       "      <td>70.341000</td>\n",
       "      <td>101522</td>\n",
       "    </tr>\n",
       "    <tr>\n",
       "      <th>111</th>\n",
       "      <td>Micronesia, Fed. Sts.</td>\n",
       "      <td>Oceania</td>\n",
       "      <td>5530</td>\n",
       "      <td>67.300000</td>\n",
       "      <td>107103</td>\n",
       "    </tr>\n",
       "    <tr>\n",
       "      <th>140</th>\n",
       "      <td>Saint Vincent and the Grenadines</td>\n",
       "      <td>N. America</td>\n",
       "      <td>5893</td>\n",
       "      <td>70.600000</td>\n",
       "      <td>107891</td>\n",
       "    </tr>\n",
       "    <tr>\n",
       "      <th>142</th>\n",
       "      <td>Sao Tome and Principe</td>\n",
       "      <td>Africa</td>\n",
       "      <td>1320</td>\n",
       "      <td>63.336000</td>\n",
       "      <td>141010</td>\n",
       "    </tr>\n",
       "    <tr>\n",
       "      <th>139</th>\n",
       "      <td>Saint Lucia</td>\n",
       "      <td>N. America</td>\n",
       "      <td>8676</td>\n",
       "      <td>71.456000</td>\n",
       "      <td>157108</td>\n",
       "    </tr>\n",
       "    <tr>\n",
       "      <th>141</th>\n",
       "      <td>Samoa</td>\n",
       "      <td>Oceania</td>\n",
       "      <td>4090</td>\n",
       "      <td>69.344000</td>\n",
       "      <td>176549</td>\n",
       "    </tr>\n",
       "    <tr>\n",
       "      <th>181</th>\n",
       "      <td>Vanuatu</td>\n",
       "      <td>Oceania</td>\n",
       "      <td>3762</td>\n",
       "      <td>67.438000</td>\n",
       "      <td>185074</td>\n",
       "    </tr>\n",
       "    <tr>\n",
       "      <th>16</th>\n",
       "      <td>Belize</td>\n",
       "      <td>N. America</td>\n",
       "      <td>6545</td>\n",
       "      <td>70.425000</td>\n",
       "      <td>250512</td>\n",
       "    </tr>\n",
       "    <tr>\n",
       "      <th>13</th>\n",
       "      <td>Barbados</td>\n",
       "      <td>N. America</td>\n",
       "      <td>14982</td>\n",
       "      <td>73.118000</td>\n",
       "      <td>267511</td>\n",
       "    </tr>\n",
       "    <tr>\n",
       "      <th>105</th>\n",
       "      <td>Maldives</td>\n",
       "      <td>Asia</td>\n",
       "      <td>3433</td>\n",
       "      <td>69.279000</td>\n",
       "      <td>273236</td>\n",
       "    </tr>\n",
       "    <tr>\n",
       "      <th>74</th>\n",
       "      <td>Iceland</td>\n",
       "      <td>Europe</td>\n",
       "      <td>31092</td>\n",
       "      <td>79.720000</td>\n",
       "      <td>281210</td>\n",
       "    </tr>\n",
       "    <tr>\n",
       "      <th>10</th>\n",
       "      <td>Bahamas</td>\n",
       "      <td>N. America</td>\n",
       "      <td>22728</td>\n",
       "      <td>72.370000</td>\n",
       "      <td>297651</td>\n",
       "    </tr>\n",
       "    <tr>\n",
       "      <th>23</th>\n",
       "      <td>Brunei</td>\n",
       "      <td>Asia</td>\n",
       "      <td>48020</td>\n",
       "      <td>75.927000</td>\n",
       "      <td>327036</td>\n",
       "    </tr>\n",
       "    <tr>\n",
       "      <th>107</th>\n",
       "      <td>Malta</td>\n",
       "      <td>Europe</td>\n",
       "      <td>20276</td>\n",
       "      <td>77.364000</td>\n",
       "      <td>397420</td>\n",
       "    </tr>\n",
       "    <tr>\n",
       "      <th>151</th>\n",
       "      <td>Solomon Islands</td>\n",
       "      <td>Oceania</td>\n",
       "      <td>1802</td>\n",
       "      <td>62.808000</td>\n",
       "      <td>408732</td>\n",
       "    </tr>\n",
       "    <tr>\n",
       "      <th>100</th>\n",
       "      <td>Macao, China</td>\n",
       "      <td>Asia</td>\n",
       "      <td>22512</td>\n",
       "      <td>77.627000</td>\n",
       "      <td>431867</td>\n",
       "    </tr>\n",
       "    <tr>\n",
       "      <th>99</th>\n",
       "      <td>Luxembourg</td>\n",
       "      <td>Europe</td>\n",
       "      <td>63924</td>\n",
       "      <td>77.820000</td>\n",
       "      <td>435491</td>\n",
       "    </tr>\n",
       "    <tr>\n",
       "      <th>30</th>\n",
       "      <td>Cape Verde</td>\n",
       "      <td>Africa</td>\n",
       "      <td>2291</td>\n",
       "      <td>69.835000</td>\n",
       "      <td>437238</td>\n",
       "    </tr>\n",
       "    <tr>\n",
       "      <th>158</th>\n",
       "      <td>Suriname</td>\n",
       "      <td>S. America</td>\n",
       "      <td>5677</td>\n",
       "      <td>67.851000</td>\n",
       "      <td>466846</td>\n",
       "    </tr>\n",
       "    <tr>\n",
       "      <th>51</th>\n",
       "      <td>Equatorial Guinea</td>\n",
       "      <td>Africa</td>\n",
       "      <td>5240</td>\n",
       "      <td>47.723000</td>\n",
       "      <td>520380</td>\n",
       "    </tr>\n",
       "    <tr>\n",
       "      <th>36</th>\n",
       "      <td>Comoros</td>\n",
       "      <td>Africa</td>\n",
       "      <td>1090</td>\n",
       "      <td>57.900000</td>\n",
       "      <td>562469</td>\n",
       "    </tr>\n",
       "    <tr>\n",
       "      <th>18</th>\n",
       "      <td>Bhutan</td>\n",
       "      <td>Asia</td>\n",
       "      <td>2922</td>\n",
       "      <td>60.307000</td>\n",
       "      <td>571262</td>\n",
       "    </tr>\n",
       "    <tr>\n",
       "      <th>135</th>\n",
       "      <td>Qatar</td>\n",
       "      <td>Asia</td>\n",
       "      <td>60394</td>\n",
       "      <td>76.680000</td>\n",
       "      <td>590957</td>\n",
       "    </tr>\n",
       "    <tr>\n",
       "      <th>114</th>\n",
       "      <td>Montenegro</td>\n",
       "      <td>Europe</td>\n",
       "      <td>6185</td>\n",
       "      <td>74.125000</td>\n",
       "      <td>632606</td>\n",
       "    </tr>\n",
       "    <tr>\n",
       "      <th>11</th>\n",
       "      <td>Bahrain</td>\n",
       "      <td>Asia</td>\n",
       "      <td>22015</td>\n",
       "      <td>74.497000</td>\n",
       "      <td>638193</td>\n",
       "    </tr>\n",
       "    <tr>\n",
       "      <th>...</th>\n",
       "      <td>...</td>\n",
       "      <td>...</td>\n",
       "      <td>...</td>\n",
       "      <td>...</td>\n",
       "      <td>...</td>\n",
       "    </tr>\n",
       "    <tr>\n",
       "      <th>133</th>\n",
       "      <td>Poland</td>\n",
       "      <td>Europe</td>\n",
       "      <td>11680</td>\n",
       "      <td>73.910000</td>\n",
       "      <td>38302444</td>\n",
       "    </tr>\n",
       "    <tr>\n",
       "      <th>35</th>\n",
       "      <td>Colombia</td>\n",
       "      <td>S. America</td>\n",
       "      <td>5749</td>\n",
       "      <td>71.026000</td>\n",
       "      <td>39764166</td>\n",
       "    </tr>\n",
       "    <tr>\n",
       "      <th>155</th>\n",
       "      <td>Spain</td>\n",
       "      <td>Europe</td>\n",
       "      <td>23410</td>\n",
       "      <td>79.340000</td>\n",
       "      <td>40288457</td>\n",
       "    </tr>\n",
       "    <tr>\n",
       "      <th>153</th>\n",
       "      <td>South Africa</td>\n",
       "      <td>Africa</td>\n",
       "      <td>7454</td>\n",
       "      <td>55.892000</td>\n",
       "      <td>44760380</td>\n",
       "    </tr>\n",
       "    <tr>\n",
       "      <th>117</th>\n",
       "      <td>Myanmar</td>\n",
       "      <td>Asia</td>\n",
       "      <td>1034</td>\n",
       "      <td>62.073000</td>\n",
       "      <td>44957660</td>\n",
       "    </tr>\n",
       "    <tr>\n",
       "      <th>89</th>\n",
       "      <td>Korea, Rep.</td>\n",
       "      <td>Asia</td>\n",
       "      <td>16995</td>\n",
       "      <td>76.114000</td>\n",
       "      <td>45987624</td>\n",
       "    </tr>\n",
       "    <tr>\n",
       "      <th>175</th>\n",
       "      <td>Ukraine</td>\n",
       "      <td>Europe</td>\n",
       "      <td>3700</td>\n",
       "      <td>67.790000</td>\n",
       "      <td>48891792</td>\n",
       "    </tr>\n",
       "    <tr>\n",
       "      <th>37</th>\n",
       "      <td>Congo, Dem. Rep.</td>\n",
       "      <td>Africa</td>\n",
       "      <td>292</td>\n",
       "      <td>46.387000</td>\n",
       "      <td>49626200</td>\n",
       "    </tr>\n",
       "    <tr>\n",
       "      <th>81</th>\n",
       "      <td>Italy</td>\n",
       "      <td>Europe</td>\n",
       "      <td>27160</td>\n",
       "      <td>79.730000</td>\n",
       "      <td>56986329</td>\n",
       "    </tr>\n",
       "    <tr>\n",
       "      <th>177</th>\n",
       "      <td>United Kingdom</td>\n",
       "      <td>Europe</td>\n",
       "      <td>28644</td>\n",
       "      <td>78.040000</td>\n",
       "      <td>58874117</td>\n",
       "    </tr>\n",
       "    <tr>\n",
       "      <th>57</th>\n",
       "      <td>France</td>\n",
       "      <td>Europe</td>\n",
       "      <td>28636</td>\n",
       "      <td>79.230000</td>\n",
       "      <td>59047795</td>\n",
       "    </tr>\n",
       "    <tr>\n",
       "      <th>166</th>\n",
       "      <td>Thailand</td>\n",
       "      <td>Asia</td>\n",
       "      <td>5578</td>\n",
       "      <td>70.921000</td>\n",
       "      <td>63155029</td>\n",
       "    </tr>\n",
       "    <tr>\n",
       "      <th>172</th>\n",
       "      <td>Turkey</td>\n",
       "      <td>Asia</td>\n",
       "      <td>6803</td>\n",
       "      <td>70.010000</td>\n",
       "      <td>63627862</td>\n",
       "    </tr>\n",
       "    <tr>\n",
       "      <th>77</th>\n",
       "      <td>Iran</td>\n",
       "      <td>Asia</td>\n",
       "      <td>8600</td>\n",
       "      <td>69.611000</td>\n",
       "      <td>65342319</td>\n",
       "    </tr>\n",
       "    <tr>\n",
       "      <th>54</th>\n",
       "      <td>Ethiopia</td>\n",
       "      <td>Africa</td>\n",
       "      <td>512</td>\n",
       "      <td>52.245000</td>\n",
       "      <td>65577897</td>\n",
       "    </tr>\n",
       "    <tr>\n",
       "      <th>49</th>\n",
       "      <td>Egypt</td>\n",
       "      <td>Africa</td>\n",
       "      <td>4629</td>\n",
       "      <td>68.632000</td>\n",
       "      <td>67648419</td>\n",
       "    </tr>\n",
       "    <tr>\n",
       "      <th>132</th>\n",
       "      <td>Philippines</td>\n",
       "      <td>Asia</td>\n",
       "      <td>2598</td>\n",
       "      <td>66.774000</td>\n",
       "      <td>77309965</td>\n",
       "    </tr>\n",
       "    <tr>\n",
       "      <th>183</th>\n",
       "      <td>Vietnam</td>\n",
       "      <td>Asia</td>\n",
       "      <td>1577</td>\n",
       "      <td>73.777000</td>\n",
       "      <td>78758010</td>\n",
       "    </tr>\n",
       "    <tr>\n",
       "      <th>61</th>\n",
       "      <td>Germany</td>\n",
       "      <td>Europe</td>\n",
       "      <td>29726</td>\n",
       "      <td>78.141275</td>\n",
       "      <td>82349027</td>\n",
       "    </tr>\n",
       "    <tr>\n",
       "      <th>110</th>\n",
       "      <td>Mexico</td>\n",
       "      <td>N. America</td>\n",
       "      <td>10894</td>\n",
       "      <td>74.380000</td>\n",
       "      <td>99959594</td>\n",
       "    </tr>\n",
       "    <tr>\n",
       "      <th>124</th>\n",
       "      <td>Nigeria</td>\n",
       "      <td>Africa</td>\n",
       "      <td>1619</td>\n",
       "      <td>46.629000</td>\n",
       "      <td>123688536</td>\n",
       "    </tr>\n",
       "    <tr>\n",
       "      <th>83</th>\n",
       "      <td>Japan</td>\n",
       "      <td>Asia</td>\n",
       "      <td>28559</td>\n",
       "      <td>81.350000</td>\n",
       "      <td>125720310</td>\n",
       "    </tr>\n",
       "    <tr>\n",
       "      <th>12</th>\n",
       "      <td>Bangladesh</td>\n",
       "      <td>Asia</td>\n",
       "      <td>1075</td>\n",
       "      <td>65.309000</td>\n",
       "      <td>129592275</td>\n",
       "    </tr>\n",
       "    <tr>\n",
       "      <th>127</th>\n",
       "      <td>Pakistan</td>\n",
       "      <td>Asia</td>\n",
       "      <td>2086</td>\n",
       "      <td>63.854000</td>\n",
       "      <td>144522192</td>\n",
       "    </tr>\n",
       "    <tr>\n",
       "      <th>137</th>\n",
       "      <td>Russia</td>\n",
       "      <td>Asia</td>\n",
       "      <td>8570</td>\n",
       "      <td>65.380000</td>\n",
       "      <td>146757517</td>\n",
       "    </tr>\n",
       "    <tr>\n",
       "      <th>22</th>\n",
       "      <td>Brazil</td>\n",
       "      <td>S. America</td>\n",
       "      <td>8056</td>\n",
       "      <td>70.261000</td>\n",
       "      <td>174425387</td>\n",
       "    </tr>\n",
       "    <tr>\n",
       "      <th>76</th>\n",
       "      <td>Indonesia</td>\n",
       "      <td>Asia</td>\n",
       "      <td>2714</td>\n",
       "      <td>67.289000</td>\n",
       "      <td>213395411</td>\n",
       "    </tr>\n",
       "    <tr>\n",
       "      <th>178</th>\n",
       "      <td>United States</td>\n",
       "      <td>N. America</td>\n",
       "      <td>39758</td>\n",
       "      <td>76.800000</td>\n",
       "      <td>282496310</td>\n",
       "    </tr>\n",
       "    <tr>\n",
       "      <th>75</th>\n",
       "      <td>India</td>\n",
       "      <td>Asia</td>\n",
       "      <td>1648</td>\n",
       "      <td>62.129000</td>\n",
       "      <td>1053898107</td>\n",
       "    </tr>\n",
       "    <tr>\n",
       "      <th>34</th>\n",
       "      <td>China</td>\n",
       "      <td>Asia</td>\n",
       "      <td>3407</td>\n",
       "      <td>72.124000</td>\n",
       "      <td>1269116737</td>\n",
       "    </tr>\n",
       "  </tbody>\n",
       "</table>\n",
       "<p>188 rows × 5 columns</p>\n",
       "</div>"
      ],
      "text/plain": [
       "                              Country   Continent  GDP_per_capita  \\\n",
       "64                          Greenland  N. America           33204   \n",
       "4                 Antigua and Barbuda  N. America           12738   \n",
       "146                        Seychelles      Africa           15230   \n",
       "87                           Kiribati     Oceania            3501   \n",
       "169                             Tonga     Oceania            4886   \n",
       "65                            Grenada  N. America            8655   \n",
       "111             Micronesia, Fed. Sts.     Oceania            5530   \n",
       "140  Saint Vincent and the Grenadines  N. America            5893   \n",
       "142             Sao Tome and Principe      Africa            1320   \n",
       "139                       Saint Lucia  N. America            8676   \n",
       "141                             Samoa     Oceania            4090   \n",
       "181                           Vanuatu     Oceania            3762   \n",
       "16                             Belize  N. America            6545   \n",
       "13                           Barbados  N. America           14982   \n",
       "105                          Maldives        Asia            3433   \n",
       "74                            Iceland      Europe           31092   \n",
       "10                            Bahamas  N. America           22728   \n",
       "23                             Brunei        Asia           48020   \n",
       "107                             Malta      Europe           20276   \n",
       "151                   Solomon Islands     Oceania            1802   \n",
       "100                      Macao, China        Asia           22512   \n",
       "99                         Luxembourg      Europe           63924   \n",
       "30                         Cape Verde      Africa            2291   \n",
       "158                          Suriname  S. America            5677   \n",
       "51                  Equatorial Guinea      Africa            5240   \n",
       "36                            Comoros      Africa            1090   \n",
       "18                             Bhutan        Asia            2922   \n",
       "135                             Qatar        Asia           60394   \n",
       "114                        Montenegro      Europe            6185   \n",
       "11                            Bahrain        Asia           22015   \n",
       "..                                ...         ...             ...   \n",
       "133                            Poland      Europe           11680   \n",
       "35                           Colombia  S. America            5749   \n",
       "155                             Spain      Europe           23410   \n",
       "153                      South Africa      Africa            7454   \n",
       "117                           Myanmar        Asia            1034   \n",
       "89                        Korea, Rep.        Asia           16995   \n",
       "175                           Ukraine      Europe            3700   \n",
       "37                   Congo, Dem. Rep.      Africa             292   \n",
       "81                              Italy      Europe           27160   \n",
       "177                    United Kingdom      Europe           28644   \n",
       "57                             France      Europe           28636   \n",
       "166                          Thailand        Asia            5578   \n",
       "172                            Turkey        Asia            6803   \n",
       "77                               Iran        Asia            8600   \n",
       "54                           Ethiopia      Africa             512   \n",
       "49                              Egypt      Africa            4629   \n",
       "132                       Philippines        Asia            2598   \n",
       "183                           Vietnam        Asia            1577   \n",
       "61                            Germany      Europe           29726   \n",
       "110                            Mexico  N. America           10894   \n",
       "124                           Nigeria      Africa            1619   \n",
       "83                              Japan        Asia           28559   \n",
       "12                         Bangladesh        Asia            1075   \n",
       "127                          Pakistan        Asia            2086   \n",
       "137                            Russia        Asia            8570   \n",
       "22                             Brazil  S. America            8056   \n",
       "76                          Indonesia        Asia            2714   \n",
       "178                     United States  N. America           39758   \n",
       "75                              India        Asia            1648   \n",
       "34                              China        Asia            3407   \n",
       "\n",
       "     life_expectancy  Population  \n",
       "64         67.030000       56196  \n",
       "4          73.544000       77656  \n",
       "146        71.771000       78685  \n",
       "87         64.642000       84010  \n",
       "169        70.810000       97935  \n",
       "65         70.341000      101522  \n",
       "111        67.300000      107103  \n",
       "140        70.600000      107891  \n",
       "142        63.336000      141010  \n",
       "139        71.456000      157108  \n",
       "141        69.344000      176549  \n",
       "181        67.438000      185074  \n",
       "16         70.425000      250512  \n",
       "13         73.118000      267511  \n",
       "105        69.279000      273236  \n",
       "74         79.720000      281210  \n",
       "10         72.370000      297651  \n",
       "23         75.927000      327036  \n",
       "107        77.364000      397420  \n",
       "151        62.808000      408732  \n",
       "100        77.627000      431867  \n",
       "99         77.820000      435491  \n",
       "30         69.835000      437238  \n",
       "158        67.851000      466846  \n",
       "51         47.723000      520380  \n",
       "36         57.900000      562469  \n",
       "18         60.307000      571262  \n",
       "135        76.680000      590957  \n",
       "114        74.125000      632606  \n",
       "11         74.497000      638193  \n",
       "..               ...         ...  \n",
       "133        73.910000    38302444  \n",
       "35         71.026000    39764166  \n",
       "155        79.340000    40288457  \n",
       "153        55.892000    44760380  \n",
       "117        62.073000    44957660  \n",
       "89         76.114000    45987624  \n",
       "175        67.790000    48891792  \n",
       "37         46.387000    49626200  \n",
       "81         79.730000    56986329  \n",
       "177        78.040000    58874117  \n",
       "57         79.230000    59047795  \n",
       "166        70.921000    63155029  \n",
       "172        70.010000    63627862  \n",
       "77         69.611000    65342319  \n",
       "54         52.245000    65577897  \n",
       "49         68.632000    67648419  \n",
       "132        66.774000    77309965  \n",
       "183        73.777000    78758010  \n",
       "61         78.141275    82349027  \n",
       "110        74.380000    99959594  \n",
       "124        46.629000   123688536  \n",
       "83         81.350000   125720310  \n",
       "12         65.309000   129592275  \n",
       "127        63.854000   144522192  \n",
       "137        65.380000   146757517  \n",
       "22         70.261000   174425387  \n",
       "76         67.289000   213395411  \n",
       "178        76.800000   282496310  \n",
       "75         62.129000  1053898107  \n",
       "34         72.124000  1269116737  \n",
       "\n",
       "[188 rows x 5 columns]"
      ]
     },
     "execution_count": 36,
     "metadata": {},
     "output_type": "execute_result"
    }
   ],
   "source": [
    "# sort_values always sorts by ascending order\n",
    "df.sort_values(by=\"Population\").head(3)"
   ]
  },
  {
   "cell_type": "code",
   "execution_count": 37,
   "metadata": {},
   "outputs": [
    {
     "data": {
      "text/html": [
       "<div>\n",
       "<style scoped>\n",
       "    .dataframe tbody tr th:only-of-type {\n",
       "        vertical-align: middle;\n",
       "    }\n",
       "\n",
       "    .dataframe tbody tr th {\n",
       "        vertical-align: top;\n",
       "    }\n",
       "\n",
       "    .dataframe thead th {\n",
       "        text-align: right;\n",
       "    }\n",
       "</style>\n",
       "<table border=\"1\" class=\"dataframe\">\n",
       "  <thead>\n",
       "    <tr style=\"text-align: right;\">\n",
       "      <th></th>\n",
       "      <th>Country</th>\n",
       "      <th>Continent</th>\n",
       "      <th>GDP_per_capita</th>\n",
       "      <th>life_expectancy</th>\n",
       "      <th>Population</th>\n",
       "    </tr>\n",
       "  </thead>\n",
       "  <tbody>\n",
       "    <tr>\n",
       "      <th>34</th>\n",
       "      <td>China</td>\n",
       "      <td>Asia</td>\n",
       "      <td>3407</td>\n",
       "      <td>72.124</td>\n",
       "      <td>1269116737</td>\n",
       "    </tr>\n",
       "    <tr>\n",
       "      <th>75</th>\n",
       "      <td>India</td>\n",
       "      <td>Asia</td>\n",
       "      <td>1648</td>\n",
       "      <td>62.129</td>\n",
       "      <td>1053898107</td>\n",
       "    </tr>\n",
       "    <tr>\n",
       "      <th>178</th>\n",
       "      <td>United States</td>\n",
       "      <td>N. America</td>\n",
       "      <td>39758</td>\n",
       "      <td>76.800</td>\n",
       "      <td>282496310</td>\n",
       "    </tr>\n",
       "  </tbody>\n",
       "</table>\n",
       "</div>"
      ],
      "text/plain": [
       "           Country   Continent  GDP_per_capita  life_expectancy  Population\n",
       "34           China        Asia            3407           72.124  1269116737\n",
       "75           India        Asia            1648           62.129  1053898107\n",
       "178  United States  N. America           39758           76.800   282496310"
      ]
     },
     "execution_count": 37,
     "metadata": {},
     "output_type": "execute_result"
    }
   ],
   "source": [
    "df.sort_values(by=\"Population\", ascending=False).head(3)"
   ]
  },
  {
   "cell_type": "code",
   "execution_count": 38,
   "metadata": {},
   "outputs": [
    {
     "data": {
      "text/plain": [
       "0      54.863\n",
       "1      74.200\n",
       "2      68.963\n",
       "3      45.234\n",
       "4      73.544\n",
       "5      73.822\n",
       "6      71.494\n",
       "7      79.930\n",
       "8      78.330\n",
       "9      66.851\n",
       "10     72.370\n",
       "11     74.497\n",
       "12     65.309\n",
       "13     73.118\n",
       "14     68.990\n",
       "15     77.910\n",
       "16     70.425\n",
       "17     55.261\n",
       "18     60.307\n",
       "19     62.994\n",
       "20     74.882\n",
       "21     50.567\n",
       "22     70.261\n",
       "23     75.927\n",
       "24     71.590\n",
       "25     50.589\n",
       "26     48.251\n",
       "27     62.030\n",
       "28     51.960\n",
       "29     79.410\n",
       "        ...  \n",
       "158    67.851\n",
       "159    48.689\n",
       "160    79.840\n",
       "161    79.990\n",
       "162    73.316\n",
       "163    76.020\n",
       "164    63.570\n",
       "165    50.010\n",
       "166    70.921\n",
       "167    59.468\n",
       "168    53.585\n",
       "169    70.810\n",
       "170    68.533\n",
       "171    73.159\n",
       "172    70.010\n",
       "173    63.925\n",
       "174    48.126\n",
       "175    67.790\n",
       "176    74.163\n",
       "177    78.040\n",
       "178    76.800\n",
       "179    74.777\n",
       "180    66.999\n",
       "181    67.438\n",
       "182    72.432\n",
       "183    73.777\n",
       "184    70.929\n",
       "185    60.404\n",
       "186    41.802\n",
       "187    43.976\n",
       "Name: life_expectancy, Length: 188, dtype: float64"
      ]
     },
     "execution_count": 38,
     "metadata": {},
     "output_type": "execute_result"
    }
   ],
   "source": [
    "df['life_expectancy']"
   ]
  },
  {
   "cell_type": "code",
   "execution_count": 39,
   "metadata": {},
   "outputs": [
    {
     "data": {
      "text/plain": [
       "pandas.core.series.Series"
      ]
     },
     "execution_count": 39,
     "metadata": {},
     "output_type": "execute_result"
    }
   ],
   "source": [
    "#every column in data frame is a series\n",
    "type(df['Continent'])"
   ]
  },
  {
   "cell_type": "code",
   "execution_count": 41,
   "metadata": {},
   "outputs": [
    {
     "data": {
      "text/plain": [
       "Africa        54\n",
       "Asia          48\n",
       "Europe        42\n",
       "N. America    22\n",
       "S. America    12\n",
       "Oceania       10\n",
       "Name: Continent, dtype: int64"
      ]
     },
     "execution_count": 41,
     "metadata": {},
     "output_type": "execute_result"
    }
   ],
   "source": [
    "# when we have column with categories, we can use value_counts()\n",
    "df['Continent'].value_counts()"
   ]
  },
  {
   "cell_type": "code",
   "execution_count": null,
   "metadata": {},
   "outputs": [],
   "source": [
    "# ca use df['columnname'] or df.column both work"
   ]
  },
  {
   "cell_type": "code",
   "execution_count": 42,
   "metadata": {},
   "outputs": [
    {
     "data": {
      "text/plain": [
       "70.04150000000001"
      ]
     },
     "execution_count": 42,
     "metadata": {},
     "output_type": "execute_result"
    }
   ],
   "source": [
    "df.life_expectancy.median()"
   ]
  },
  {
   "cell_type": "code",
   "execution_count": 44,
   "metadata": {},
   "outputs": [
    {
     "data": {
      "text/plain": [
       "5290.5"
      ]
     },
     "execution_count": 44,
     "metadata": {},
     "output_type": "execute_result"
    }
   ],
   "source": [
    " df.GDP_per_capita.median()"
   ]
  },
  {
   "cell_type": "code",
   "execution_count": 50,
   "metadata": {},
   "outputs": [
    {
     "data": {
      "text/plain": [
       "9977.558510638299"
      ]
     },
     "execution_count": 50,
     "metadata": {},
     "output_type": "execute_result"
    }
   ],
   "source": [
    " df.GDP_per_capita.mean() #mean > median"
   ]
  },
  {
   "cell_type": "code",
   "execution_count": 51,
   "metadata": {},
   "outputs": [
    {
     "data": {
      "text/plain": [
       "6115042358"
      ]
     },
     "execution_count": 51,
     "metadata": {},
     "output_type": "execute_result"
    }
   ],
   "source": [
    "df.Population.sum()"
   ]
  },
  {
   "cell_type": "code",
   "execution_count": 47,
   "metadata": {},
   "outputs": [
    {
     "data": {
      "text/plain": [
       "81.35"
      ]
     },
     "execution_count": 47,
     "metadata": {},
     "output_type": "execute_result"
    }
   ],
   "source": [
    "df.life_expectancy.max()"
   ]
  },
  {
   "cell_type": "code",
   "execution_count": 48,
   "metadata": {},
   "outputs": [
    {
     "data": {
      "text/html": [
       "<div>\n",
       "<style scoped>\n",
       "    .dataframe tbody tr th:only-of-type {\n",
       "        vertical-align: middle;\n",
       "    }\n",
       "\n",
       "    .dataframe tbody tr th {\n",
       "        vertical-align: top;\n",
       "    }\n",
       "\n",
       "    .dataframe thead th {\n",
       "        text-align: right;\n",
       "    }\n",
       "</style>\n",
       "<table border=\"1\" class=\"dataframe\">\n",
       "  <thead>\n",
       "    <tr style=\"text-align: right;\">\n",
       "      <th></th>\n",
       "      <th>Country</th>\n",
       "      <th>Continent</th>\n",
       "      <th>GDP_per_capita</th>\n",
       "      <th>life_expectancy</th>\n",
       "      <th>Population</th>\n",
       "    </tr>\n",
       "  </thead>\n",
       "  <tbody>\n",
       "    <tr>\n",
       "      <th>83</th>\n",
       "      <td>Japan</td>\n",
       "      <td>Asia</td>\n",
       "      <td>28559</td>\n",
       "      <td>81.350</td>\n",
       "      <td>125720310</td>\n",
       "    </tr>\n",
       "    <tr>\n",
       "      <th>72</th>\n",
       "      <td>Hong Kong, China</td>\n",
       "      <td>Asia</td>\n",
       "      <td>29972</td>\n",
       "      <td>80.361</td>\n",
       "      <td>6783317</td>\n",
       "    </tr>\n",
       "    <tr>\n",
       "      <th>161</th>\n",
       "      <td>Switzerland</td>\n",
       "      <td>Europe</td>\n",
       "      <td>34386</td>\n",
       "      <td>79.990</td>\n",
       "      <td>7167908</td>\n",
       "    </tr>\n",
       "  </tbody>\n",
       "</table>\n",
       "</div>"
      ],
      "text/plain": [
       "              Country Continent  GDP_per_capita  life_expectancy  Population\n",
       "83              Japan      Asia           28559           81.350   125720310\n",
       "72   Hong Kong, China      Asia           29972           80.361     6783317\n",
       "161       Switzerland    Europe           34386           79.990     7167908"
      ]
     },
     "execution_count": 48,
     "metadata": {},
     "output_type": "execute_result"
    }
   ],
   "source": [
    "df.sort_values(by='life_expectancy',ascending=False).head(3)"
   ]
  },
  {
   "cell_type": "code",
   "execution_count": 52,
   "metadata": {},
   "outputs": [],
   "source": [
    "#df.sort_values?\n"
   ]
  },
  {
   "cell_type": "code",
   "execution_count": 60,
   "metadata": {},
   "outputs": [
    {
     "data": {
      "text/plain": [
       "Continent\n",
       "Africa        52.1025\n",
       "Asia          70.4275\n",
       "Europe        75.5800\n",
       "N. America    70.5765\n",
       "Oceania       67.4955\n",
       "S. America    70.7660\n",
       "Name: life_expectancy, dtype: float64"
      ]
     },
     "execution_count": 60,
     "metadata": {},
     "output_type": "execute_result"
    }
   ],
   "source": [
    "df.groupby('Continent').life_expectancy.median()  # Put into groups by continent and give the median life expectancy \n",
    "df.groupby('Continent')['life_expectancy'].median()"
   ]
  },
  {
   "cell_type": "code",
   "execution_count": null,
   "metadata": {},
   "outputs": [],
   "source": [
    "#df.Population.sum()"
   ]
  },
  {
   "cell_type": "code",
   "execution_count": 62,
   "metadata": {},
   "outputs": [
    {
     "data": {
      "text/plain": [
       "Continent\n",
       "Africa         809892820\n",
       "Asia          3849172861\n",
       "Europe         596440013\n",
       "N. America     481999240\n",
       "Oceania         30272328\n",
       "S. America     347265096\n",
       "Name: Population, dtype: int64"
      ]
     },
     "execution_count": 62,
     "metadata": {},
     "output_type": "execute_result"
    }
   ],
   "source": [
    "df.groupby('Continent').Population.sum()"
   ]
  },
  {
   "cell_type": "code",
   "execution_count": 63,
   "metadata": {},
   "outputs": [
    {
     "data": {
      "text/plain": [
       "Continent\n",
       "Asia          3849172861\n",
       "Africa         809892820\n",
       "Europe         596440013\n",
       "N. America     481999240\n",
       "S. America     347265096\n",
       "Oceania         30272328\n",
       "Name: Population, dtype: int64"
      ]
     },
     "execution_count": 63,
     "metadata": {},
     "output_type": "execute_result"
    }
   ],
   "source": [
    "df.groupby('Continent').Population.sum().sort_values(ascending=False)"
   ]
  },
  {
   "cell_type": "code",
   "execution_count": 65,
   "metadata": {},
   "outputs": [
    {
     "data": {
      "text/plain": [
       "Africa        54\n",
       "Asia          48\n",
       "Europe        42\n",
       "N. America    22\n",
       "S. America    12\n",
       "Oceania       10\n",
       "Name: Continent, dtype: int64"
      ]
     },
     "execution_count": 65,
     "metadata": {},
     "output_type": "execute_result"
    }
   ],
   "source": [
    "df.Continent.value_counts() # if just counting then no group by and only value counts"
   ]
  },
  {
   "cell_type": "code",
   "execution_count": 66,
   "metadata": {},
   "outputs": [
    {
     "data": {
      "text/plain": [
       "Africa        0.287234\n",
       "Asia          0.255319\n",
       "Europe        0.223404\n",
       "N. America    0.117021\n",
       "S. America    0.063830\n",
       "Oceania       0.053191\n",
       "Name: Continent, dtype: float64"
      ]
     },
     "execution_count": 66,
     "metadata": {},
     "output_type": "execute_result"
    }
   ],
   "source": [
    "df.Continent.value_counts(normalize=True) "
   ]
  },
  {
   "cell_type": "code",
   "execution_count": 69,
   "metadata": {},
   "outputs": [
    {
     "data": {
      "text/html": [
       "<div>\n",
       "<style scoped>\n",
       "    .dataframe tbody tr th:only-of-type {\n",
       "        vertical-align: middle;\n",
       "    }\n",
       "\n",
       "    .dataframe tbody tr th {\n",
       "        vertical-align: top;\n",
       "    }\n",
       "\n",
       "    .dataframe thead th {\n",
       "        text-align: right;\n",
       "    }\n",
       "</style>\n",
       "<table border=\"1\" class=\"dataframe\">\n",
       "  <thead>\n",
       "    <tr style=\"text-align: right;\">\n",
       "      <th></th>\n",
       "      <th>Country</th>\n",
       "      <th>Continent</th>\n",
       "      <th>GDP_per_capita</th>\n",
       "      <th>life_expectancy</th>\n",
       "      <th>Population</th>\n",
       "    </tr>\n",
       "  </thead>\n",
       "  <tbody>\n",
       "    <tr>\n",
       "      <th>2</th>\n",
       "      <td>Algeria</td>\n",
       "      <td>Africa</td>\n",
       "      <td>5098</td>\n",
       "      <td>68.963</td>\n",
       "      <td>30533827</td>\n",
       "    </tr>\n",
       "    <tr>\n",
       "      <th>30</th>\n",
       "      <td>Cape Verde</td>\n",
       "      <td>Africa</td>\n",
       "      <td>2291</td>\n",
       "      <td>69.835</td>\n",
       "      <td>437238</td>\n",
       "    </tr>\n",
       "    <tr>\n",
       "      <th>49</th>\n",
       "      <td>Egypt</td>\n",
       "      <td>Africa</td>\n",
       "      <td>4629</td>\n",
       "      <td>68.632</td>\n",
       "      <td>67648419</td>\n",
       "    </tr>\n",
       "    <tr>\n",
       "      <th>97</th>\n",
       "      <td>Libya</td>\n",
       "      <td>Africa</td>\n",
       "      <td>9139</td>\n",
       "      <td>71.872</td>\n",
       "      <td>5231189</td>\n",
       "    </tr>\n",
       "    <tr>\n",
       "      <th>109</th>\n",
       "      <td>Mauritius</td>\n",
       "      <td>Africa</td>\n",
       "      <td>8290</td>\n",
       "      <td>71.202</td>\n",
       "      <td>1196027</td>\n",
       "    </tr>\n",
       "    <tr>\n",
       "      <th>115</th>\n",
       "      <td>Morocco</td>\n",
       "      <td>Africa</td>\n",
       "      <td>3073</td>\n",
       "      <td>68.220</td>\n",
       "      <td>28793236</td>\n",
       "    </tr>\n",
       "    <tr>\n",
       "      <th>142</th>\n",
       "      <td>Sao Tome and Principe</td>\n",
       "      <td>Africa</td>\n",
       "      <td>1320</td>\n",
       "      <td>63.336</td>\n",
       "      <td>141010</td>\n",
       "    </tr>\n",
       "    <tr>\n",
       "      <th>146</th>\n",
       "      <td>Seychelles</td>\n",
       "      <td>Africa</td>\n",
       "      <td>15230</td>\n",
       "      <td>71.771</td>\n",
       "      <td>78685</td>\n",
       "    </tr>\n",
       "    <tr>\n",
       "      <th>171</th>\n",
       "      <td>Tunisia</td>\n",
       "      <td>Africa</td>\n",
       "      <td>5480</td>\n",
       "      <td>73.159</td>\n",
       "      <td>9456117</td>\n",
       "    </tr>\n",
       "  </tbody>\n",
       "</table>\n",
       "</div>"
      ],
      "text/plain": [
       "                   Country Continent  GDP_per_capita  life_expectancy  \\\n",
       "2                  Algeria    Africa            5098           68.963   \n",
       "30              Cape Verde    Africa            2291           69.835   \n",
       "49                   Egypt    Africa            4629           68.632   \n",
       "97                   Libya    Africa            9139           71.872   \n",
       "109              Mauritius    Africa            8290           71.202   \n",
       "115                Morocco    Africa            3073           68.220   \n",
       "142  Sao Tome and Principe    Africa            1320           63.336   \n",
       "146             Seychelles    Africa           15230           71.771   \n",
       "171                Tunisia    Africa            5480           73.159   \n",
       "\n",
       "     Population  \n",
       "2      30533827  \n",
       "30       437238  \n",
       "49     67648419  \n",
       "97      5231189  \n",
       "109     1196027  \n",
       "115    28793236  \n",
       "142      141010  \n",
       "146       78685  \n",
       "171     9456117  "
      ]
     },
     "execution_count": 69,
     "metadata": {},
     "output_type": "execute_result"
    }
   ],
   "source": [
    "df[(df.Continent=='Africa')& (df.life_expectancy >60)]\n"
   ]
  },
  {
   "cell_type": "code",
   "execution_count": 77,
   "metadata": {},
   "outputs": [
    {
     "data": {
      "text/plain": [
       "<matplotlib.axes._subplots.AxesSubplot at 0x1cf623259b0>"
      ]
     },
     "execution_count": 77,
     "metadata": {},
     "output_type": "execute_result"
    },
    {
     "data": {
      "image/png": "[encoded data removed]",
      "text/plain": [
       "<matplotlib.figure.Figure at 0x1cf6243f278>"
      ]
     },
     "metadata": {},
     "output_type": "display_data"
    }
   ],
   "source": [
    "#%matplotlib inline #graphing module\n",
    "df.groupby('Continent')['life_expectancy'].median().plot()"
   ]
  },
  {
   "cell_type": "code",
   "execution_count": 82,
   "metadata": {},
   "outputs": [
    {
     "data": {
      "text/plain": [
       "<matplotlib.axes._subplots.AxesSubplot at 0x1cf62dee400>"
      ]
     },
     "execution_count": 82,
     "metadata": {},
     "output_type": "execute_result"
    },
    {
     "data": {
      "image/png": "[encoded data removed]",
      "text/plain": [
       "<matplotlib.figure.Figure at 0x1cf62e57c18>"
      ]
     },
     "metadata": {},
     "output_type": "display_data"
    }
   ],
   "source": [
    "df.groupby('Continent')['life_expectancy'].median().plot(kind='barh')"
   ]
  },
  {
   "cell_type": "code",
   "execution_count": 83,
   "metadata": {},
   "outputs": [
    {
     "data": {
      "text/plain": [
       "<matplotlib.axes._subplots.AxesSubplot at 0x1cf62e80128>"
      ]
     },
     "execution_count": 83,
     "metadata": {},
     "output_type": "execute_result"
    },
    {
     "data": {
      "image/png": "[encoded data removed]",
      "text/plain": [
       "<matplotlib.figure.Figure at 0x1cf64149550>"
      ]
     },
     "metadata": {},
     "output_type": "display_data"
    }
   ],
   "source": [
    "df.plot(x='GDP_per_capita', y='life_expectancy', kind='scatter')"
   ]
  },
  {
   "cell_type": "code",
   "execution_count": 84,
   "metadata": {},
   "outputs": [
    {
     "data": {
      "text/plain": [
       "<matplotlib.axes._subplots.AxesSubplot at 0x1cf641de2b0>"
      ]
     },
     "execution_count": 84,
     "metadata": {},
     "output_type": "execute_result"
    },
    {
     "data": {
      "image/png": "[encoded data removed]",
      "text/plain": [
       "<matplotlib.figure.Figure at 0x1cf641b87b8>"
      ]
     },
     "metadata": {},
     "output_type": "display_data"
    }
   ],
   "source": [
    "df.groupby('Continent')['life_expectancy'].median().plot(kind='bar')"
   ]
  },
  {
   "cell_type": "code",
   "execution_count": null,
   "metadata": {},
   "outputs": [],
   "source": []
  },
  {
   "cell_type": "code",
   "execution_count": null,
   "metadata": {},
   "outputs": [],
   "source": []
  }
 ],
 "metadata": {
  "kernelspec": {
   "display_name": "Python 3",
   "language": "python",
   "name": "python3"
  },
  "language_info": {
   "codemirror_mode": {
    "name": "ipython",
    "version": 3
   },
   "file_extension": ".py",
   "mimetype": "text/x-python",
   "name": "python",
   "nbconvert_exporter": "python",
   "pygments_lexer": "ipython3",
   "version": "3.6.4"
  }
 },
 "nbformat": 4,
 "nbformat_minor": 2
}
